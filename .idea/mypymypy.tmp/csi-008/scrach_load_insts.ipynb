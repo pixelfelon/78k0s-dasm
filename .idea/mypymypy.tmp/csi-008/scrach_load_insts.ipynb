#%%
import openpyxl
#%%
wb = openpyxl.load_workbook(filename='..\\instruction excel.xlsx')
#%%
opr_sheet = wb["Instruction Operation"]
#%%
opr_sheet.cell(colem)
#%%
